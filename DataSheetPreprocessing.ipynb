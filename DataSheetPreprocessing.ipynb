{
  "nbformat": 4,
  "nbformat_minor": 0,
  "metadata": {
    "colab": {
      "name": "DataSheetPreprocessing.ipynb",
      "provenance": []
    },
    "kernelspec": {
      "name": "python3",
      "display_name": "Python 3"
    },
    "language_info": {
      "name": "python"
    }
  },
  "cells": [
    {
      "cell_type": "code",
      "source": [
        "!pip install xlsxwriter\n",
        "!pip install update pandas\n",
        "!pip install update xlrd version==1.2.0"
      ],
      "metadata": {
        "colab": {
          "base_uri": "https://localhost:8080/"
        },
        "id": "eQBl6ha2qr4u",
        "outputId": "6d4e8d6e-6f0d-40a5-e3bc-66d331672811"
      },
      "execution_count": null,
      "outputs": [
        {
          "output_type": "stream",
          "name": "stdout",
          "text": [
            "Looking in indexes: https://pypi.org/simple, https://us-python.pkg.dev/colab-wheels/public/simple/\n",
            "Requirement already satisfied: xlsxwriter in /usr/local/lib/python3.7/dist-packages (3.0.3)\n",
            "Looking in indexes: https://pypi.org/simple, https://us-python.pkg.dev/colab-wheels/public/simple/\n",
            "Requirement already satisfied: update in /usr/local/lib/python3.7/dist-packages (0.0.1)\n",
            "Requirement already satisfied: pandas in /usr/local/lib/python3.7/dist-packages (1.3.5)\n",
            "Requirement already satisfied: style==1.1.0 in /usr/local/lib/python3.7/dist-packages (from update) (1.1.0)\n",
            "Requirement already satisfied: pytz>=2017.3 in /usr/local/lib/python3.7/dist-packages (from pandas) (2022.1)\n",
            "Requirement already satisfied: python-dateutil>=2.7.3 in /usr/local/lib/python3.7/dist-packages (from pandas) (2.8.2)\n",
            "Requirement already satisfied: numpy>=1.17.3 in /usr/local/lib/python3.7/dist-packages (from pandas) (1.21.6)\n",
            "Requirement already satisfied: six>=1.5 in /usr/local/lib/python3.7/dist-packages (from python-dateutil>=2.7.3->pandas) (1.15.0)\n",
            "Looking in indexes: https://pypi.org/simple, https://us-python.pkg.dev/colab-wheels/public/simple/\n",
            "Requirement already satisfied: update in /usr/local/lib/python3.7/dist-packages (0.0.1)\n",
            "Requirement already satisfied: xlrd in /usr/local/lib/python3.7/dist-packages (1.1.0)\n",
            "\u001b[31mERROR: Could not find a version that satisfies the requirement version==1.2.0 (from versions: 0.1.0, 0.1.1)\u001b[0m\n",
            "\u001b[31mERROR: No matching distribution found for version==1.2.0\u001b[0m\n"
          ]
        }
      ]
    },
    {
      "cell_type": "code",
      "source": [
        "import xlsxwriter\n",
        "import openpyxl as xl\n",
        "import numpy as np\n",
        "import os"
      ],
      "metadata": {
        "id": "SWvccRMnXpOC"
      },
      "execution_count": 72,
      "outputs": []
    },
    {
      "cell_type": "code",
      "execution_count": 70,
      "metadata": {
        "colab": {
          "base_uri": "https://localhost:8080/"
        },
        "id": "46INRQnbqRJd",
        "outputId": "c612feec-dc15-4def-86ad-a34060a18a33"
      },
      "outputs": [
        {
          "output_type": "stream",
          "name": "stdout",
          "text": [
            "[['C1', 'Januari 1'], ['D1', 'Januari 2'], ['E1', 'Januari 3'], ['F1', 'Januari 4'], ['G1', 'Januari 7'], ['H1', 'Januari 8'], ['I1', 'Januari 9'], ['J1', 'Januari 10'], ['K1', 'Januari 11'], ['L1', 'Januari 14'], ['M1', 'Januari 15'], ['N1', 'Januari 16'], ['O1', 'Januari 17'], ['P1', 'Januari 18'], ['Q1', 'Januari 21'], ['R1', 'Januari 22'], ['S1', 'Januari 23'], ['T1', 'Januari 24'], ['U1', 'Januari 25'], ['V1', 'Januari 28'], ['W1', 'Januari 29'], ['X1', 'Januari 30'], ['Y1', 'Januari 31']]\n",
            "[['B2', 'Nangroe Aceh Darussalam'], ['B3', 'Sumatera Utara'], ['B4', 'Sumatera Barat'], ['B5', 'Riau'], ['B6', 'Jambi'], ['B7', 'Sumatera Selatan'], ['B8', 'Bengkulu'], ['B9', 'Lampung'], ['B10', 'Bangka Belitung'], ['B11', 'Kepulauan Riau'], ['B12', 'DKI Jakarta'], ['B13', 'Jawa Barat'], ['B14', 'Jawa Tengah'], ['B15', 'D.I. Yogyakarta'], ['B16', 'Jawa Timur'], ['B17', 'Banten'], ['B18', 'Bali'], ['B19', 'Nusa Tenggara Barat'], ['B20', 'Nusa Tenggara Timur'], ['B21', 'Kalimantan Barat'], ['B22', 'Kalimantan Tengah'], ['B23', 'Kalimantan Selatan'], ['B24', 'Kalimantan Timur'], ['B25', 'Kalimantan Utara'], ['B26', 'Sulawesi Utara'], ['B27', 'Sulawesi Tengah'], ['B28', 'Sulawesi Selatan'], ['B29', 'Sulawesi Tenggara'], ['B30', 'Sulawesi Barat'], ['B31', 'Maluku'], ['B32', 'Maluku Utara'], ['B33', 'Papua Barat'], ['B34', 'Papua']]\n"
          ]
        }
      ],
      "source": [
        "\n",
        "wb = xl.load_workbook('./(1)-jan-19.xlsx')\n",
        "sheet = wb.worksheets[0]\n",
        "\n",
        "provinces = sheet['B']\n",
        "dates = sheet['1']\n",
        "\n",
        "list_provinces = [[province.coordinate, province.value] for province in provinces[1:-1]]\n",
        "list_dates = [[date.coordinate, date.value] for date in dates[2:-1]]\n",
        "print(list_dates)\n",
        "print(list_provinces)"
      ]
    },
    {
      "cell_type": "code",
      "source": [
        "recap_wb = xl.load_workbook('./rekap.xlsx')\n",
        "recap_sheet = recap_wb.worksheets[0]\n",
        "\n",
        "for i in np.arange(1,3,1):\n",
        "  "
      ],
      "metadata": {
        "colab": {
          "base_uri": "https://localhost:8080/"
        },
        "id": "rxMK1aZUy0Ue",
        "outputId": "92e5cb59-ce37-46ac-b0fe-5be65a92f403"
      },
      "execution_count": 71,
      "outputs": [
        {
          "output_type": "stream",
          "name": "stdout",
          "text": [
            "1\n",
            "2\n"
          ]
        }
      ]
    },
    {
      "cell_type": "code",
      "source": [
        "os.listdir(os.path.join('.'))"
      ],
      "metadata": {
        "id": "khujnFQVq0-B",
        "colab": {
          "base_uri": "https://localhost:8080/"
        },
        "outputId": "d483fcb3-5867-4232-ef3a-da47c6ae93b7"
      },
      "execution_count": 76,
      "outputs": [
        {
          "output_type": "execute_result",
          "data": {
            "text/plain": [
              "['.config',\n",
              " '(6)-jun-19.xlsx',\n",
              " '(12)-des-19.xlsx',\n",
              " '(5)-mei-19.xlsx',\n",
              " '.ipynb_checkpoints',\n",
              " '(7)-jul-19.xlsx',\n",
              " '(1)-jan-19.xlsx',\n",
              " '(2)-feb-19.xlsx',\n",
              " '(3)-mar-19.xlsx',\n",
              " '(10)-okt-19.xlsx',\n",
              " '(9)-sep-19.xlsx',\n",
              " '(4)-apr-19.xlsx',\n",
              " '(8)-agu-19.xlsx',\n",
              " 'rekap.xlsx',\n",
              " '(11)-nov-19.xlsx',\n",
              " '.\\rekap.xlsx',\n",
              " '.\\\\Expenses01.xlsx',\n",
              " 'sample_data']"
            ]
          },
          "metadata": {},
          "execution_count": 76
        }
      ]
    },
    {
      "cell_type": "code",
      "source": [
        ""
      ],
      "metadata": {
        "id": "vzZOkG3FTP19"
      },
      "execution_count": null,
      "outputs": []
    }
  ]
}